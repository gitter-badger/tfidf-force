{
 "cells": [
  {
   "cell_type": "markdown",
   "metadata": {},
   "source": [
    "# Analyzing Corpora\n",
    "\n",
    "Now that we have looked at analyzing and comparing documents, we can move to a higher unit of text. Sometime we want to look at a large collection of text in aggregate, such as the complete works of William Shakespeare, or all New York Times articles ever. The term we use for a collection of documents is corpus. And a corpus can be as large or as small as you want, but are usually collected together for some reason and have some meaning behind why they are grouped together. \n",
    "\n",
    "Lets look at a few examples we have direct access to through NLTK."
   ]
  },
  {
   "cell_type": "code",
   "execution_count": 1,
   "metadata": {
    "collapsed": false
   },
   "outputs": [],
   "source": [
    "#\n",
    "# Preamble\n",
    "#\n",
    "\n",
    "%matplotlib inline\n",
    "\n",
    "# Import our core libraries\n",
    "import nltk\n",
    "from nltk.corpus import gutenberg\n",
    "from pprint import pprint\n",
    "from collections import Counter\n",
    "import numpy as np\n",
    "from scipy.spatial.distance import cosine\n",
    "from sklearn.metrics import pairwise_distances"
   ]
  },
  {
   "cell_type": "code",
   "execution_count": null,
   "metadata": {
    "collapsed": false
   },
   "outputs": [],
   "source": [
    "# You can use the following to download corpora\n",
    "# nltk.download()\n",
    "\n",
    "# More info on the various corpora and corpus readers can be found here\n",
    "# http://www.nltk.org/book/ch02.html"
   ]
  },
  {
   "cell_type": "code",
   "execution_count": 2,
   "metadata": {
    "collapsed": false
   },
   "outputs": [
    {
     "name": "stdout",
     "output_type": "stream",
     "text": [
      "[u'austen-emma.txt',\n",
      " u'austen-persuasion.txt',\n",
      " u'austen-sense.txt',\n",
      " u'bible-kjv.txt',\n",
      " u'blake-poems.txt',\n",
      " u'bryant-stories.txt',\n",
      " u'burgess-busterbrown.txt',\n",
      " u'carroll-alice.txt',\n",
      " u'chesterton-ball.txt',\n",
      " u'chesterton-brown.txt',\n",
      " u'chesterton-thursday.txt',\n",
      " u'edgeworth-parents.txt',\n",
      " u'melville-moby_dick.txt',\n",
      " u'milton-paradise.txt',\n",
      " u'shakespeare-caesar.txt',\n",
      " u'shakespeare-hamlet.txt',\n",
      " u'shakespeare-macbeth.txt',\n",
      " u'whitman-leaves.txt']\n"
     ]
    }
   ],
   "source": [
    "# Lets use a small sample of book from project gutenberg.\n",
    "pprint(gutenberg.fileids())"
   ]
  },
  {
   "cell_type": "code",
   "execution_count": 3,
   "metadata": {
    "collapsed": false
   },
   "outputs": [
    {
     "name": "stdout",
     "output_type": "stream",
     "text": [
      "(192427, 7344, 7752, u'austen-emma.txt')\n",
      "(98171, 5835, 3747, u'austen-persuasion.txt')\n",
      "(141576, 6403, 4999, u'austen-sense.txt')\n",
      "(1010654, 12767, 30103, u'bible-kjv.txt')\n",
      "(8354, 1535, 438, u'blake-poems.txt')\n",
      "(55563, 3940, 2863, u'bryant-stories.txt')\n",
      "(18963, 1559, 1054, u'burgess-busterbrown.txt')\n",
      "(34110, 2636, 1703, u'carroll-alice.txt')\n",
      "(96996, 8335, 4779, u'chesterton-ball.txt')\n",
      "(86063, 7794, 3806, u'chesterton-brown.txt')\n",
      "(69213, 6349, 3742, u'chesterton-thursday.txt')\n",
      "(210663, 8447, 10230, u'edgeworth-parents.txt')\n",
      "(260819, 17231, 10059, u'melville-moby_dick.txt')\n",
      "(96825, 9021, 1851, u'milton-paradise.txt')\n",
      "(25833, 3032, 2163, u'shakespeare-caesar.txt')\n",
      "(37360, 4716, 3106, u'shakespeare-hamlet.txt')\n",
      "(23140, 3464, 1907, u'shakespeare-macbeth.txt')\n",
      "(154883, 12452, 4250, u'whitman-leaves.txt')\n"
     ]
    }
   ],
   "source": [
    "# There are 18 documents of various lengths, \n",
    "# lets get some other basic info about them\n",
    "for fileid in gutenberg.fileids():\n",
    "    num_words = len(gutenberg.words(fileid))\n",
    "    num_sents = len(gutenberg.sents(fileid))\n",
    "    num_vocab = len(set(w.lower() for w in gutenberg.words(fileid)))\n",
    "    print(num_words, num_vocab, num_sents, fileid)"
   ]
  },
  {
   "cell_type": "markdown",
   "metadata": {},
   "source": [
    "# Document Similarity & The Vector Space Model\n",
    "\n",
    "One thing we may want to do with our documents is see which ones are similar to other ones. This would allow us to do things like automatically group 'similar' documents, which we will do via a technique called document clustering.\n",
    "\n",
    "A building block to automatically grouping them together (and a fun thing in its own right) is to try and see how similar one document is to another. How may we go about this? How can we __measure__ how similar one document is to another?\n",
    "\n",
    "One way of modelling documents to support this similarity calculation is the __vector space model of documents__. It starts by imagining the document as a _bag of words_ as we saw earlier."
   ]
  },
  {
   "cell_type": "code",
   "execution_count": 4,
   "metadata": {
    "collapsed": false
   },
   "outputs": [
    {
     "name": "stdout",
     "output_type": "stream",
     "text": [
      "[(u',', 2418), (u'the', 1616), (u\"'\", 1127), (u'.', 974), (u'and', 810), (u'to', 720), (u'a', 620), (u'she', 544), (u'it', 539), (u'of', 499), (u'said', 462), (u'!', 450), (u'alice', 396), (u'was', 366), (u'i', 364), (u'in', 359), (u'you', 356), (u'that', 284), (u'--', 264), (u'as', 256), (u'her', 248), (u':', 233), (u'at', 209), (u\"n't\", 204), (u'?', 202), (u\"'s\", 194), (u';', 194), (u'on', 191), (u'had', 184), (u'with', 179), (u'all', 178), (u\"'i\", 169), (u'be', 148), (u'for', 146), (u'so', 144), (u'very', 139), (u'they', 135), (u'not', 135), (u'this', 131), (u'but', 131), (u'little', 128), (u'do', 125), (u'he', 117), (u'is', 113), (u'out', 113), (u'what', 103), (u'down', 102), (u'one', 99), (u'up', 97), (u'his', 95)]\n"
     ]
    }
   ],
   "source": [
    "# Lets turn the text of alice in wonderland into a bag of words with\n",
    "# associated frequency distribution.\n",
    "\n",
    "alice = gutenberg.raw('carroll-alice.txt')\n",
    "alice = nltk.word_tokenize(alice)\n",
    "alice = [word.lower() for word in alice]\n",
    "frequencies = nltk.FreqDist(alice)\n",
    "print(frequencies.most_common(50))\n",
    "\n",
    "# FreqDist docs.\n",
    "# http://www.nltk.org/api/nltk.html?highlight=freqdist#nltk.probability.FreqDist"
   ]
  },
  {
   "cell_type": "code",
   "execution_count": null,
   "metadata": {
    "collapsed": false,
    "scrolled": false
   },
   "outputs": [],
   "source": []
  },
  {
   "cell_type": "markdown",
   "metadata": {
    "collapsed": true
   },
   "source": [
    "## The Vector Space Model\n",
    "\n",
    "Now if we imagine that each of the words represents a dimension in a high dimensional space. Then we each word-frequency pair represents a vector in this space, and further more the sum of those vectors gives a single vector that represents that entire document.\n",
    "\n",
    "Here is a diagram for what that may look like for a set of documents composed entirely of two words\n",
    "\n",
    "![Vector Space Model 2D](vector-space-2d-manning.png)\n",
    "*From \"Introduction to Information Retrieval\", Manning et al*\n",
    "\n",
    "In this model the frequency is known as the __term weight__ and provides the magnitude of the vector for that word. In the diagram above this has been normalzied to a score between 0 and 1. Term weight is a more general term because you can use things other than frequency as your term weight e.g. the TF-IDF score of a term.\n",
    "\n",
    "## Cosine Similarity\n",
    "\n",
    "Now that we have all the documents projected into a geometric space. How can we tell which documents are similar. \n",
    "\n",
    "One way would be to say vectors which are close to each other are similar, we could calculate the distance between two vectors and use that. However that can be problematic as documents of different lengths will have vastly different terms weights and thus skew the measure.\n",
    "\n",
    "Another approach would be to see that vectors lines that are going in the same-ish direction are going to be more similar. So if we can compare the directions they are going we can get a sense of this. One way to do this is to calculate the angle between two vectors, the smaller than angle the more similar their direction of travel and the more similar the documents. In practice is it easier to calculate the _cosine_ of the angle between the two vectors, this produces a nice number between 0 and 1 that we can use as our similarity score"
   ]
  },
  {
   "cell_type": "code",
   "execution_count": 5,
   "metadata": {
    "collapsed": false
   },
   "outputs": [],
   "source": [
    "#Let’s create a vector space model out of some documents\n",
    "#and calculate some pairwise similarities.\n",
    "\n",
    "# Extract and normalize tokens for a given document.\n",
    "def get_tokens(fileid, corpus):\n",
    "    raw = corpus.raw(fileid)\n",
    "    tokens = nltk.word_tokenize(raw)\n",
    "    norm = [token.lower() for token in tokens]\n",
    "    return norm\n",
    "\n",
    "# Takes all the tokens that appear in token_lists and puts them in a \n",
    "# set to determine unique tokens. Then creates a dictionary mapping a token\n",
    "# to its index in the set, this enables us to have a unique target position for\n",
    "# each word in our vocabulary.\n",
    "def build_vocabulary(token_lists):\n",
    "    result = set()\n",
    "    for tl in token_lists:\n",
    "        result = result.union(set(tl))\n",
    "    result = {v:i for i,v in enumerate(result)}\n",
    "    return result\n",
    "\n",
    "# Builds a vector for a given token list and vocabulary.\n",
    "# The result is a vector with length equal to the number of words in the\n",
    "# vocabulary, and term weights for each token in the token list set in \n",
    "# the appropriate position\n",
    "def build_vector(tokens, vocabulary):\n",
    "    result = [0] * len(vocabulary)\n",
    "    freq = Counter(tokens)\n",
    "    for token in tokens:\n",
    "        pos = vocabulary[token]\n",
    "        result[pos] = freq[token]\n",
    "    return result"
   ]
  },
  {
   "cell_type": "code",
   "execution_count": 6,
   "metadata": {
    "collapsed": false
   },
   "outputs": [
    {
     "name": "stdout",
     "output_type": "stream",
     "text": [
      "24588\n"
     ]
    }
   ],
   "source": [
    "alice = get_tokens('carroll-alice.txt', gutenberg)\n",
    "moby = get_tokens('melville-moby_dick.txt', gutenberg)\n",
    "austen1 = get_tokens('austen-emma.txt', gutenberg)\n",
    "austen2 = get_tokens('austen-persuasion.txt', gutenberg)\n",
    "austen3 = get_tokens('austen-sense.txt', gutenberg)\n",
    "\n",
    "vocabulary = build_vocabulary([alice, moby, austen1, austen2, austen3]);\n",
    "print(len(vocabulary))\n"
   ]
  },
  {
   "cell_type": "code",
   "execution_count": 7,
   "metadata": {
    "collapsed": false
   },
   "outputs": [],
   "source": [
    "alice_v = build_vector(alice, vocabulary)\n",
    "moby_v = build_vector(moby, vocabulary)\n",
    "austen1_v = build_vector(austen1, vocabulary)\n",
    "austen2_v = build_vector(austen2, vocabulary)\n",
    "austen3_v = build_vector(austen3, vocabulary)"
   ]
  },
  {
   "cell_type": "code",
   "execution_count": 8,
   "metadata": {
    "collapsed": false
   },
   "outputs": [
    {
     "name": "stdout",
     "output_type": "stream",
     "text": [
      "[0, 0, 0, 0, 6, 0, 0, 0, 0, 3, 2, 0, 0, 0, 0, 0, 0, 0, 0, 0, 0, 0, 0, 0, 0, 0, 1, 0, 0, 0, 0, 1, 0, 0, 2, 0, 0, 0, 0, 0, 0, 0, 17, 0, 0, 0, 0, 0, 0, 0]\n",
      "\n",
      "\n",
      "[u'gag', u'woods', u'clotted', u'pantheistic', u'hanging', u'woody', u'disobeying', u'canes', u'scold', u'stipulate', u'medicament', u'bringing', u'wooded', u'harville', u'wooden', u'wednesday', u'broiled', u'soladoes', u'crotch', u'sooty', u'insular', u'woollen-draper', u'miniatures', u'sooth', u'sustaining', u'consenting', u\"frigate's\", u'inanimate', u\"mind'em\", u'errors', u'semicircular', u'nature.', u'cooking', u'designing', u'shocks', u'crouch', u'work-bags', u'primogenitures', u'china', u'properest', u'natured', u'climbed', u'circumferences', u'natures', u'golden', u'_would_', u'projection', u'lengthen', u'hermaphroditical', u'stern']\n",
      "\n",
      "\n",
      "[(0, u'gag'), (0, u'woods'), (0, u'clotted'), (0, u'pantheistic'), (6, u'hanging'), (0, u'woody'), (0, u'disobeying'), (0, u'canes'), (0, u'scold'), (3, u'stipulate'), (2, u'medicament'), (0, u'bringing'), (0, u'wooded'), (0, u'harville'), (0, u'wooden'), (0, u'wednesday'), (0, u'broiled'), (0, u'soladoes'), (0, u'crotch'), (0, u'sooty'), (0, u'insular'), (0, u'woollen-draper'), (0, u'miniatures'), (0, u'sooth'), (0, u'sustaining'), (0, u'consenting'), (1, u\"frigate's\"), (0, u'inanimate'), (0, u\"mind'em\"), (0, u'errors'), (0, u'semicircular'), (1, u'nature.'), (0, u'cooking'), (0, u'designing'), (2, u'shocks'), (0, u'crouch'), (0, u'work-bags'), (0, u'primogenitures'), (0, u'china'), (0, u'properest'), (0, u'natured'), (0, u'climbed'), (17, u'circumferences'), (0, u'natures'), (0, u'golden'), (0, u'_would_'), (0, u'projection'), (0, u'lengthen'), (0, u'hermaphroditical'), (0, u'stern')]\n"
     ]
    }
   ],
   "source": [
    "print(alice_v[0:50])\n",
    "print(\"\\n\")\n",
    "print(list(vocabulary)[0:50])\n",
    "print(\"\\n\")\n",
    "print(zip(alice_v[0:50], list(vocabulary)[0:50]))"
   ]
  },
  {
   "cell_type": "code",
   "execution_count": 9,
   "metadata": {
    "collapsed": false
   },
   "outputs": [
    {
     "name": "stdout",
     "output_type": "stream",
     "text": [
      "1.0\n",
      "0.902451480786\n",
      "0.881000554468\n",
      "0.893427441523\n",
      "0.88611793731\n"
     ]
    }
   ],
   "source": [
    "# Lets compare Alice in Wonderland to the Others\n",
    "from scipy.spatial.distance import cosine\n",
    "\n",
    "all_vectors = [alice_v, moby_v, austen1_v, austen2_v, austen3_v]\n",
    "for v in all_vectors:\n",
    "    co = cosine(alice_v, v)\n",
    "    print(1 - co)"
   ]
  },
  {
   "cell_type": "code",
   "execution_count": 10,
   "metadata": {
    "collapsed": false
   },
   "outputs": [
    {
     "name": "stdout",
     "output_type": "stream",
     "text": [
      "0.881000554468\n",
      "0.913972109401\n",
      "1.0\n",
      "0.971691946265\n",
      "0.982561616264\n"
     ]
    }
   ],
   "source": [
    "# Lets compare Austen1 to the others\n",
    "for v in all_vectors:\n",
    "    co = cosine(austen1_v, v)\n",
    "    print(1 - co)"
   ]
  },
  {
   "cell_type": "code",
   "execution_count": 11,
   "metadata": {
    "collapsed": false
   },
   "outputs": [
    {
     "name": "stdout",
     "output_type": "stream",
     "text": [
      "[[ 1.          0.90245148  0.88100055  0.89342744  0.88611794]\n",
      " [ 0.90245148  1.          0.91397211  0.94348224  0.92777444]\n",
      " [ 0.88100055  0.91397211  1.          0.97169195  0.98256162]\n",
      " [ 0.89342744  0.94348224  0.97169195  1.          0.98316233]\n",
      " [ 0.88611794  0.92777444  0.98256162  0.98316233  1.        ]]\n"
     ]
    }
   ],
   "source": [
    "# If we use more functionality from SciPy we can also see this all in one matrix\n",
    "from sklearn.metrics import pairwise_distances\n",
    "\n",
    "all_vectors_np = np.array(all_vectors)\n",
    "similary = 1 - pairwise_distances(all_vectors_np, metric=\"cosine\")\n",
    "print(similary)"
   ]
  },
  {
   "cell_type": "markdown",
   "metadata": {},
   "source": [
    "# Clustering Documents\n",
    "\n",
    "Now that we can determine which documents are similar to others, we can take advantage of a technique known as Clustering. Clustering is a machine learning technique that tries to automatically group items into a set of K sub groups (where you provide the number K). It can be used to see if there are groups that emerge out of the properties of the documents in the larger collection. Lets try clustering these documents and see if they cluster by author.\n",
    "\n",
    "## K-Means Clustering. \n",
    "\n",
    "The clustering algorithm we will look at here is K-Means. There are others but K-means is relatively simple to intuitively understand. \n",
    "\n",
    "It works by first randomly generating some cluster centers and assigning elements to these clusters by proximity. The cluster centers are then iterateively moved to the centroid of the clustered points and the process repeated.\n",
    "\n",
    "![Vector Space Model 2D](k-means-ng-jordan.png)\n",
    "\n",
    "> From Stanford CS229 Lecture Notes by Andrew Ng"
   ]
  },
  {
   "cell_type": "code",
   "execution_count": 12,
   "metadata": {
    "collapsed": false
   },
   "outputs": [
    {
     "name": "stdout",
     "output_type": "stream",
     "text": [
      "('Clustering results:', [0, 2, 1, 1, 1])\n"
     ]
    }
   ],
   "source": [
    "# Lets see this in action\n",
    "# http://www.nltk.org/api/nltk.cluster.html\n",
    "# http://www.nltk.org/_modules/nltk/cluster/kmeans.html\n",
    "\n",
    "from nltk.cluster.kmeans import KMeansClusterer\n",
    "from numpy import array\n",
    "\n",
    "num_clusters = 3\n",
    "kclusterer = KMeansClusterer(num_clusters, distance=nltk.cluster.util.cosine_distance, repeats=5)\n",
    "\n",
    "vectors = [array(f) for f in all_vectors] \n",
    "clusters = kclusterer.cluster(vectors, True) \n",
    "print('Clustering results:', clusters)"
   ]
  },
  {
   "cell_type": "code",
   "execution_count": 13,
   "metadata": {
    "collapsed": false
   },
   "outputs": [],
   "source": [
    "# Lets do this for all 18 documents\n",
    "\n",
    "doc_ids = gutenberg.fileids()\n",
    "token_lists = [get_tokens(f, gutenberg) for f in doc_ids]\n",
    "voc = build_vocabulary(token_lists)\n",
    "doc_vectors = [array(build_vector(tl, voc)) for tl in token_lists]"
   ]
  },
  {
   "cell_type": "code",
   "execution_count": 17,
   "metadata": {
    "collapsed": false
   },
   "outputs": [
    {
     "name": "stdout",
     "output_type": "stream",
     "text": [
      "(u'austen-emma.txt', 9)\n",
      "(u'austen-persuasion.txt', 6)\n",
      "(u'austen-sense.txt', 9)\n",
      "(u'bible-kjv.txt', 11)\n",
      "(u'blake-poems.txt', 7)\n",
      "(u'bryant-stories.txt', 3)\n",
      "(u'burgess-busterbrown.txt', 0)\n",
      "(u'carroll-alice.txt', 7)\n",
      "(u'chesterton-ball.txt', 4)\n",
      "(u'chesterton-brown.txt', 5)\n",
      "(u'chesterton-thursday.txt', 4)\n",
      "(u'edgeworth-parents.txt', 10)\n",
      "(u'melville-moby_dick.txt', 7)\n",
      "(u'milton-paradise.txt', 8)\n",
      "(u'shakespeare-caesar.txt', 1)\n",
      "(u'shakespeare-hamlet.txt', 2)\n",
      "(u'shakespeare-macbeth.txt', 1)\n",
      "(u'whitman-leaves.txt', 8)\n"
     ]
    }
   ],
   "source": [
    "num_clusters = 12 #note there are 12 authors\n",
    "kclusterer = KMeansClusterer(num_clusters, distance=nltk.cluster.util.cosine_distance, repeats=25)\n",
    "clusters = kclusterer.cluster(doc_vectors, True) \n",
    "\n",
    "doc_clusters = zip(gutenberg.fileids(), clusters)\n",
    "for dc in doc_clusters:\n",
    "    pprint(dc)\n",
    "    \n",
    "# Note that running this multiple times produces different results"
   ]
  },
  {
   "cell_type": "code",
   "execution_count": 18,
   "metadata": {
    "collapsed": false
   },
   "outputs": [
    {
     "name": "stdout",
     "output_type": "stream",
     "text": [
      "[9, 6, 9, 11, 7, 3, 0, 7, 4, 5, 4, 10, 7, 8, 1, 2, 1, 8]\n"
     ]
    },
    {
     "data": {
      "text/plain": [
       "[array([ 0.,  0.,  0., ...,  0.,  0.,  0.]),\n",
       " array([ 0.5,  0. ,  0. , ...,  1. ,  0. ,  0. ]),\n",
       " array([ 0.,  4.,  0., ...,  1.,  0.,  0.]),\n",
       " array([ 0.,  0.,  0., ...,  0.,  0.,  0.]),\n",
       " array([ 0. ,  0. ,  0. , ...,  0. ,  0.5,  0. ]),\n",
       " array([ 0.,  0.,  0., ...,  0.,  0.,  0.]),\n",
       " array([ 0.,  0.,  0., ...,  0.,  0.,  0.]),\n",
       " array([ 0.        ,  0.        ,  0.        , ...,  0.        ,\n",
       "         0.66666667,  0.        ]),\n",
       " array([ 0.5,  0. ,  0.5, ...,  0. ,  1.5,  0. ]),\n",
       " array([ 0.,  0.,  0., ...,  0.,  0.,  0.]),\n",
       " array([ 0.,  0.,  0., ...,  0.,  0.,  0.]),\n",
       " array([ 0.,  0.,  0., ...,  0.,  0.,  3.])]"
      ]
     },
     "execution_count": 18,
     "metadata": {},
     "output_type": "execute_result"
    }
   ],
   "source": [
    "print(clusters)\n",
    "kclusterer.means()"
   ]
  },
  {
   "cell_type": "code",
   "execution_count": 19,
   "metadata": {
    "collapsed": false
   },
   "outputs": [
    {
     "data": {
      "image/png": "[encoded data removed]",
      "text/plain": [
       "<matplotlib.figure.Figure at 0x124982550>"
      ]
     },
     "metadata": {},
     "output_type": "display_data"
    }
   ],
   "source": [
    "# MDS to plot high dimensional vectors.\n",
    "import matplotlib.pyplot as plt\n",
    "from sklearn.manifold import MDS\n",
    "\n",
    "plt.figure(figsize=(10,10)) \n",
    "\n",
    "mds = MDS(n_components=2, random_state=1)\n",
    "pos = mds.fit_transform(doc_vectors)\n",
    "xs, ys = pos[:, 0], pos[:, 1]\n",
    "\n",
    "for x, y, name, cluster in zip(xs, ys, gutenberg.fileids(), clusters):\n",
    "    color = 'blue'\n",
    "    plt.scatter(x, y, c=color)\n",
    "    plt.text(x, y, name + \" \" + str(cluster))\n",
    "    \n",
    "cluster_pos = mds.fit_transform(kclusterer.means())\n",
    "xs, ys = cluster_pos[:, 0], pos[:, 1]\n",
    "\n",
    "#for x, y, name in zip(xs, ys, range(num_clusters)):\n",
    "#    color = 'orange'\n",
    "#    plt.scatter(x, y, c=color)\n",
    "#    plt.text(x, y, name)\n",
    "\n",
    "\n",
    "plt.show()"
   ]
  },
  {
   "cell_type": "markdown",
   "metadata": {
    "collapsed": true
   },
   "source": [
    "## Considerations when clustering\n",
    "\n",
    "There are a number of things to keep in mind when clustering\n",
    "\n",
    "* Feature Selection: How you select your features (and thus build your document vectors) is very important. Feel free to experiment with different terms weights and also differing features (e.g. removing stopwords, or stemming words to their roots). Anything you can count systematically across your documents can be a feature!\n",
    "* Choise of algorithm: There are many different clustering algorithms and we have only looked at two. While simple sounding, K-Means is actually widely used in production because it is relatively fast and gives pretty good results. "
   ]
  },
  {
   "cell_type": "markdown",
   "metadata": {},
   "source": [
    "## Exercises\n",
    "\n",
    "1. Cluster the speeches in the inaugural collection, see if you can recover author distribution or maybe time/era distributions.   "
   ]
  },
  {
   "cell_type": "code",
   "execution_count": 23,
   "metadata": {
    "collapsed": false
   },
   "outputs": [
    {
     "name": "stdout",
     "output_type": "stream",
     "text": [
      "[u'1789-Washington.txt', u'1793-Washington.txt', u'1797-Adams.txt', u'1801-Jefferson.txt', u'1805-Jefferson.txt', u'1809-Madison.txt', u'1813-Madison.txt', u'1817-Monroe.txt', u'1821-Monroe.txt', u'1825-Adams.txt', u'1829-Jackson.txt', u'1833-Jackson.txt', u'1837-VanBuren.txt', u'1841-Harrison.txt', u'1845-Polk.txt', u'1849-Taylor.txt', u'1853-Pierce.txt', u'1857-Buchanan.txt', u'1861-Lincoln.txt', u'1865-Lincoln.txt', u'1869-Grant.txt', u'1873-Grant.txt', u'1877-Hayes.txt', u'1881-Garfield.txt', u'1885-Cleveland.txt', u'1889-Harrison.txt', u'1893-Cleveland.txt', u'1897-McKinley.txt', u'1901-McKinley.txt', u'1905-Roosevelt.txt', u'1909-Taft.txt', u'1913-Wilson.txt', u'1917-Wilson.txt', u'1921-Harding.txt', u'1925-Coolidge.txt', u'1929-Hoover.txt', u'1933-Roosevelt.txt', u'1937-Roosevelt.txt', u'1941-Roosevelt.txt', u'1945-Roosevelt.txt', u'1949-Truman.txt', u'1953-Eisenhower.txt', u'1957-Eisenhower.txt', u'1961-Kennedy.txt', u'1965-Johnson.txt', u'1969-Nixon.txt', u'1973-Nixon.txt', u'1977-Carter.txt', u'1981-Reagan.txt', u'1985-Reagan.txt', u'1989-Bush.txt', u'1993-Clinton.txt', u'1997-Clinton.txt', u'2001-Bush.txt', u'2005-Bush.txt', u'2009-Obama.txt']\n"
     ]
    }
   ],
   "source": [
    "# Exercise 1.\n",
    "\n",
    "from nltk.corpus import inaugural\n",
    "\n",
    "from nltk.cluster.kmeans import KMeansClusterer\n",
    "from numpy import array\n",
    "\n",
    "# Extract and normalize tokens for a given document.\n",
    "def get_tokens(fileid, corpus):\n",
    "    raw = corpus.raw(fileid)\n",
    "    tokens = nltk.word_tokenize(raw)\n",
    "    norm = [token.lower() for token in tokens]\n",
    "    return norm\n",
    "\n",
    "# Takes all the tokens that appear in token_lists and puts them in a \n",
    "# set to determine unique tokens. Then creates a dictionary mapping a token\n",
    "# to its index in the set, this enables us to have a unique target position for\n",
    "# each word in our vocabulary.\n",
    "def build_vocabulary(token_lists):\n",
    "    result = set()\n",
    "    for tl in token_lists:\n",
    "        result = result.union(set(tl))\n",
    "    result = {v:i for i,v in enumerate(result)}\n",
    "    return result\n",
    "\n",
    "# Builds a vector for a given token list and vocabulary.\n",
    "# The result is a vector with length equal to the number of words in the\n",
    "# vocabulary, and term weights for each token in the token list set in \n",
    "# the appropriate position\n",
    "def build_vector(tokens, vocabulary):\n",
    "    result = [0] * len(vocabulary)\n",
    "    freq = Counter(tokens)\n",
    "    for token in tokens:\n",
    "        pos = vocabulary[token]\n",
    "        result[pos] = freq[token]\n",
    "    return result\n",
    "\n",
    "# The ids for the speeches. Print these out if you want to get a sense of\n",
    "# what is in this corpus.\n",
    "speech_names = inaugural.fileids()\n",
    "print speech_names\n",
    "\n",
    "# Step 1. Tokenize the speeches\n",
    "token_lists = [get_tokens(f, inaugural) for f in speech_names]\n",
    "\n",
    "# Step 2. Build a vocabulary for all the speeches this is the\n",
    "voc = build_vocabulary(token_lists)\n",
    "doc_vectors = [array(build_vector(tl, voc)) for tl in token_lists]\n",
    "\n",
    "# list of all the features (all the terms) across the entire corpus\n",
    "\n",
    "# Step 3. Build feature vectors for the individual speeches.  \n",
    "\n",
    "\n",
    "# Step 4. Do the clustering. Feel free to pick between K-Means and GAAC. \n",
    "# How many clusters might you want to generate?"
   ]
  },
  {
   "cell_type": "markdown",
   "metadata": {},
   "source": [
    "## Further Reading\n",
    "\n",
    "* [Programming Collective Intelligence by Tony Segaran](http://shop.oreilly.com/product/9780596529321.do?sortby=publicationDate) — A great lightweight and hands on introduction to various machine learning concepts such as clustering and classification.\n",
    "\n",
    "* [Introduction to Information Retreival by Manning et Al](http://nlp.stanford.edu/IR-book/) — Online textbook covering a number of foundational topics in information retreival and statistical text processing."
   ]
  },
  {
   "cell_type": "code",
   "execution_count": null,
   "metadata": {
    "collapsed": true
   },
   "outputs": [],
   "source": []
  }
 ],
 "metadata": {
  "celltoolbar": "Raw Cell Format",
  "kernelspec": {
   "display_name": "Python 2",
   "language": "python",
   "name": "python2"
  },
  "language_info": {
   "codemirror_mode": {
    "name": "ipython",
    "version": 2
   },
   "file_extension": ".py",
   "mimetype": "text/x-python",
   "name": "python",
   "nbconvert_exporter": "python",
   "pygments_lexer": "ipython2",
   "version": "2.7.11"
  }
 },
 "nbformat": 4,
 "nbformat_minor": 0
}
